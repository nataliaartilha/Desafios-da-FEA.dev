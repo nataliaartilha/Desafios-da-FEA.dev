{
 "cells": [
  {
   "cell_type": "code",
   "execution_count": 1,
   "id": "07eb7817",
   "metadata": {},
   "outputs": [
    {
     "name": "stdout",
     "output_type": "stream",
     "text": [
      "As duplas das aulas são {'Edgard-geração n': 'Julio-geração 4', 'Thais-geração 3': 'Max-geração 5', 'Douglas-geração n': 'Alan-geração 5', 'Alissa-geração n': 'Felipe-geração 5', 'Alice-geração 3': 'Gustavo-geração n', 'Kevyn-geração 3': 'Thais-geração 3', 'Lais-geração 2': 'Ana-geração 5', 'Thomas-geração 2': 'Ka-geração 5'} e as aulas do curso são ['Matplotlib', 'Estruturas de repetição', 'Numpy', 'Pandas 2', 'Loops', 'Lógica de Programação', 'Pandas 1', 'Funções']\n"
     ]
    }
   ],
   "source": [
    "import random \n",
    "lista_senior=['Thais-geração 3','Kevyn-geração 3','Edgard-geração n','Alice-geração 3','Lais-geração 2','Alissa-geração n','Thomas-geração 2','Douglas-geração n']\n",
    "lista_bixos=['Ka-geração 5','Ana-geração 5','Max-geração 5','Felipe-geração 5','Alan-geração 5','Julio-geração 4','Thais-geração 3','Gustavo-geração n']\n",
    "lista_aulas=['Lógica de Programação','Loops','Funções','Estruturas de repetição','Numpy','Pandas 1','Pandas 2','Matplotlib',]\n",
    "escolhidos_bixos=[]\n",
    "while len(escolhidos_bixos)!=8:\n",
    "    r=random.choice(lista_bixos)\n",
    "    if r not in escolhidos_bixos:\n",
    "        escolhidos_bixos.append(r)\n",
    "\n",
    "\n",
    "escolhidos_senior=[]\n",
    "while len(escolhidos_senior)!=8:\n",
    "    p=random.choice(lista_senior)\n",
    "    if p not in escolhidos_senior:\n",
    "        escolhidos_senior.append(p)\n",
    "\n",
    "\n",
    "aulas_escolhidas=[]\n",
    "while len(aulas_escolhidas)!=8:\n",
    "    s=random.choice(lista_aulas)\n",
    "    if s not in aulas_escolhidas:\n",
    "        aulas_escolhidas.append(s)\n",
    "\n",
    "\n",
    "duplas={}\n",
    "for i,j in zip(escolhidos_senior,escolhidos_bixos):\n",
    "  duplas[i]=j\n",
    "print('As duplas das aulas são {} e as aulas do curso são {}'.format(duplas,aulas_escolhidas))\n",
    "\n",
    "\n",
    "\n"
   ]
  }
 ],
 "metadata": {
  "kernelspec": {
   "display_name": "Python 3 (ipykernel)",
   "language": "python",
   "name": "python3"
  },
  "language_info": {
   "codemirror_mode": {
    "name": "ipython",
    "version": 3
   },
   "file_extension": ".py",
   "mimetype": "text/x-python",
   "name": "python",
   "nbconvert_exporter": "python",
   "pygments_lexer": "ipython3",
   "version": "3.9.12"
  }
 },
 "nbformat": 4,
 "nbformat_minor": 5
}
